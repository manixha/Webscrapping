{
  "nbformat": 4,
  "nbformat_minor": 0,
  "metadata": {
    "colab": {
      "provenance": [],
      "authorship_tag": "ABX9TyNLh52jUnmtLIyJBYaStjRM",
      "include_colab_link": true
    },
    "kernelspec": {
      "name": "python3",
      "display_name": "Python 3"
    },
    "language_info": {
      "name": "python"
    }
  },
  "cells": [
    {
      "cell_type": "markdown",
      "metadata": {
        "id": "view-in-github",
        "colab_type": "text"
      },
      "source": [
        "<a href=\"https://colab.research.google.com/github/manixha/Webscrapping/blob/main/Web_Scrapping.ipynb\" target=\"_parent\"><img src=\"https://colab.research.google.com/assets/colab-badge.svg\" alt=\"Open In Colab\"/></a>"
      ]
    },
    {
      "cell_type": "code",
      "source": [
        "from bs4 import BeautifulSoup \n",
        "import requests\n",
        "\n",
        "books = []\n",
        "for i in range(1,51):\n",
        "  url = f'https://books.toscrape.com/catalogue/page-{i}.html'\n",
        "  response = requests.get(url)\n",
        "  response = response.content\n",
        "  soup = BeautifulSoup(response,'html.parser')\n",
        "  articles = soup.find_all('article',class_ = 'product_pod')\n",
        "\n",
        "  books = []\n",
        "  for article in articles:\n",
        "    image = article.find('img')\n",
        "    title = image.attrs['alt']   #attrs - attribute\n",
        "    star = article.find('p')\n",
        "    star = star['class'][1]\n",
        "    price = article.find('p',class_ = 'price_color').text  #price is in text format so we need to change it in number\n",
        "    price = float(price[1:])\n",
        "    books.append([title,star,price])\n",
        "\n",
        "import pandas as pd\n",
        "df = pd.DataFrame(books,columns = ['Title','Ratings','Price'])\n",
        "df.to_csv('bookstoscrape.csv')"
      ],
      "metadata": {
        "id": "65XQcha7e-5J"
      },
      "execution_count": 60,
      "outputs": []
    }
  ]
}