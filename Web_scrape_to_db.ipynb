{
  "nbformat": 4,
  "nbformat_minor": 0,
  "metadata": {
    "colab": {
      "provenance": [],
      "authorship_tag": "ABX9TyMaAvdq7uvH9hupuMWBbMtD",
      "include_colab_link": true
    },
    "kernelspec": {
      "name": "python3",
      "display_name": "Python 3"
    },
    "language_info": {
      "name": "python"
    }
  },
  "cells": [
    {
      "cell_type": "markdown",
      "metadata": {
        "id": "view-in-github",
        "colab_type": "text"
      },
      "source": [
        "<a href=\"https://colab.research.google.com/github/manixha/Webscrapping/blob/main/Web_scrape_to_db.ipynb\" target=\"_parent\"><img src=\"https://colab.research.google.com/assets/colab-badge.svg\" alt=\"Open In Colab\"/></a>"
      ]
    },
    {
      "cell_type": "code",
      "execution_count": null,
      "metadata": {
        "id": "W1x7CFkkqxP_"
      },
      "outputs": [],
      "source": [
        "import sqlite3\n",
        "from bs4 import BeautifulSoup\n",
        "import requests\n",
        "import pandas as pd\n"
      ]
    },
    {
      "cell_type": "code",
      "source": [
        "try:\n",
        "  url = requests.get('https://www.imdb.com/chart/top/')\n",
        "  url.raise_for_status()\n",
        "  conn = sqlite3.connect('newdb.db')\n",
        "  c = conn.cursor()\n",
        "\n",
        "  c.execute('''CREATE TABLE movies(name TEXT,rank INT,year INT,rating INT)''')\n",
        "\n",
        "  soup = BeautifulSoup(url.text,'lxml')\n",
        "  movies = soup.find('tbody',class_='lister-list').find_all('tr')\n",
        "  \n",
        "  for movi in movies:\n",
        "    name = movi.find('td',class_='titleColumn').a.text\n",
        "    rank = movi.find('td',class_='titleColumn').get_text(strip=True).split('.')[0]\n",
        "    year = movi.find('td',class_='titleColumn').span.text.strip('()')\n",
        "    rating = movi.find('td',class_='ratingColumn imdbRating').strong.text\n",
        "    c.execute('''Insert into movies values(?,?,?,?)''',(rank,name,year,rating))\n",
        "  \n",
        "  conn.commit()\n",
        "  \n",
        " # c.execute('''Select * from movies''')\n",
        " # results = c.fetchall()\n",
        " # print(len(results))\n",
        "\n",
        "  df = pd.read_sql_query(\"Select * from movies\",conn)\n",
        "  print(df)\n",
        "  conn.close()\n",
        "\n",
        "except Exception as e:\n",
        "  print(e)\n"
      ],
      "metadata": {
        "colab": {
          "base_uri": "https://localhost:8080/"
        },
        "id": "nK4IzHfprkHG",
        "outputId": "ed596578-22cc-4edf-f67f-23a740fb2455"
      },
      "execution_count": 3,
      "outputs": [
        {
          "output_type": "stream",
          "name": "stdout",
          "text": [
            "    name                      rank  year  rating\n",
            "0      1  The Shawshank Redemption  1994     9.2\n",
            "1      2             The Godfather  1972     9.2\n",
            "2      3           The Dark Knight  2008     9.0\n",
            "3      4    The Godfather: Part II  1974     9.0\n",
            "4      5              12 Angry Men  1957     9.0\n",
            "..   ...                       ...   ...     ...\n",
            "245  246            The Iron Giant  1999     8.0\n",
            "246  247                  The Help  2011     8.0\n",
            "247  248                   Aladdin  1992     8.0\n",
            "248  249                    Gandhi  1982     8.0\n",
            "249  250        Dances with Wolves  1990     8.0\n",
            "\n",
            "[250 rows x 4 columns]\n"
          ]
        }
      ]
    },
    {
      "cell_type": "code",
      "source": [],
      "metadata": {
        "id": "rnjqPX9qs7bt"
      },
      "execution_count": null,
      "outputs": []
    }
  ]
}